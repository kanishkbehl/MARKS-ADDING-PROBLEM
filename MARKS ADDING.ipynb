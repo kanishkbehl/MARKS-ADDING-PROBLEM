{
 "cells": [
  {
   "cell_type": "code",
   "execution_count": 5,
   "id": "a5ed12de-936f-42c4-a41b-b3b62c15305a",
   "metadata": {},
   "outputs": [
    {
     "name": "stdin",
     "output_type": "stream",
     "text": [
      "Enter the input file name:  input_file.csv\n",
      "Enter the output file name:  output_file.csv\n"
     ]
    },
    {
     "name": "stdout",
     "output_type": "stream",
     "text": [
      "Marks processed and written to the output file.\n"
     ]
    }
   ],
   "source": [
    "import csv\n",
    "\n",
    "def process_marks_csv(input_file, output_file):\n",
    "    student_marks = {}\n",
    "\n",
    "    # Read the input CSV file\n",
    "    with open(input_file, \"r\") as file:\n",
    "        csv_reader = csv.reader(file)\n",
    "\n",
    "        # Skip the header row if it exists\n",
    "        next(csv_reader)\n",
    "\n",
    "        # Process each row in the CSV file\n",
    "        for row in csv_reader:\n",
    "            roll_number, marks = row\n",
    "            marks = float(marks)\n",
    "\n",
    "            if roll_number in student_marks:\n",
    "                student_marks[roll_number] += marks\n",
    "            else:\n",
    "                student_marks[roll_number] = marks\n",
    "\n",
    "    # Write the results to the output file\n",
    "    with open(output_file, \"w\", newline=\"\") as file:\n",
    "        csv_writer = csv.writer(file)\n",
    "\n",
    "        # Write the header row\n",
    "        csv_writer.writerow([\"Roll Number\", \"Total Marks\"])\n",
    "\n",
    "        # Write the roll number and total marks for each student\n",
    "        for roll_number, total_marks in student_marks.items():\n",
    "            csv_writer.writerow([roll_number, total_marks])\n",
    "\n",
    "    print(\"Marks processed and written to the output file.\")\n",
    "\n",
    "\n",
    "def main():\n",
    "    input_file = input(\"Enter the input file name: \")\n",
    "    output_file = input(\"Enter the output file name: \")\n",
    "\n",
    "    process_marks_csv(input_file, output_file)\n",
    "\n",
    "\n",
    "if __name__ == \"__main__\":\n",
    "    main()\n"
   ]
  }
 ],
 "metadata": {
  "kernelspec": {
   "display_name": "Python 3 (ipykernel)",
   "language": "python",
   "name": "python3"
  },
  "language_info": {
   "codemirror_mode": {
    "name": "ipython",
    "version": 3
   },
   "file_extension": ".py",
   "mimetype": "text/x-python",
   "name": "python",
   "nbconvert_exporter": "python",
   "pygments_lexer": "ipython3",
   "version": "3.10.9"
  }
 },
 "nbformat": 4,
 "nbformat_minor": 5
}
